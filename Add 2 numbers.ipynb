{
 "cells": [
  {
   "cell_type": "code",
   "execution_count": 7,
   "id": "818243ed",
   "metadata": {},
   "outputs": [
    {
     "name": "stdout",
     "output_type": "stream",
     "text": [
      "Program to add 2 numbers \n",
      " Enter two numbers with space\n",
      "4  5\n",
      "Addtition of two numbers is :  9\n"
     ]
    }
   ],
   "source": [
    "print(\"Program to add 2 numbers \\n Enter two numbers with space\")\n",
    "a,b = map(int, input().split())\n",
    "print(\"Addtition of two numbers is : \",a+b)"
   ]
  },
  {
   "cell_type": "code",
   "execution_count": null,
   "id": "ba533da3",
   "metadata": {},
   "outputs": [],
   "source": []
  }
 ],
 "metadata": {
  "kernelspec": {
   "display_name": "Python 3 (ipykernel)",
   "language": "python",
   "name": "python3"
  },
  "language_info": {
   "codemirror_mode": {
    "name": "ipython",
    "version": 3
   },
   "file_extension": ".py",
   "mimetype": "text/x-python",
   "name": "python",
   "nbconvert_exporter": "python",
   "pygments_lexer": "ipython3",
   "version": "3.10.1"
  }
 },
 "nbformat": 4,
 "nbformat_minor": 5
}
